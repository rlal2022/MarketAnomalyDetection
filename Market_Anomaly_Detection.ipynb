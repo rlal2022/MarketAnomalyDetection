{
  "nbformat": 4,
  "nbformat_minor": 0,
  "metadata": {
    "colab": {
      "provenance": []
    },
    "kernelspec": {
      "name": "python3",
      "display_name": "Python 3"
    },
    "language_info": {
      "name": "python"
    }
  },
  "cells": [
    {
      "cell_type": "code",
      "source": [
        "import pandas as pd\n",
        "import numpy as np\n",
        "import seaborn as sns\n",
        "import matplotlib.pyplot as plt\n",
        "from sklearn.model_selection import train_test_split\n",
        "from sklearn.linear_model import LogisticRegression\n",
        "from sklearn.metrics import classification_report, confusion_matrix\n",
        "\n"
      ],
      "metadata": {
        "id": "9dUK5EpmnUzz"
      },
      "execution_count": null,
      "outputs": []
    },
    {
      "cell_type": "code",
      "source": [
        "from google.colab import files\n",
        "import pandas as pd\n",
        "\n",
        "# Upload the file\n",
        "uploaded = files.upload()\n",
        "\n",
        "# Load the uploaded file into a DataFrame\n",
        "for filename in uploaded.keys():\n",
        "    print(f\"You uploaded: {filename}\")\n",
        "    data = pd.read_csv(filename)\n",
        "    print(data.head())\n"
      ],
      "metadata": {
        "colab": {
          "base_uri": "https://localhost:8080/",
          "height": 199
        },
        "id": "JxMO4leEn-ww",
        "outputId": "9b10e96e-6003-4369-a001-f5934855ceb3"
      },
      "execution_count": null,
      "outputs": [
        {
          "output_type": "display_data",
          "data": {
            "text/plain": [
              "<IPython.core.display.HTML object>"
            ],
            "text/html": [
              "\n",
              "     <input type=\"file\" id=\"files-64ab80b5-b37e-40d5-9eec-d5cbbebd9430\" name=\"files[]\" multiple disabled\n",
              "        style=\"border:none\" />\n",
              "     <output id=\"result-64ab80b5-b37e-40d5-9eec-d5cbbebd9430\">\n",
              "      Upload widget is only available when the cell has been executed in the\n",
              "      current browser session. Please rerun this cell to enable.\n",
              "      </output>\n",
              "      <script>// Copyright 2017 Google LLC\n",
              "//\n",
              "// Licensed under the Apache License, Version 2.0 (the \"License\");\n",
              "// you may not use this file except in compliance with the License.\n",
              "// You may obtain a copy of the License at\n",
              "//\n",
              "//      http://www.apache.org/licenses/LICENSE-2.0\n",
              "//\n",
              "// Unless required by applicable law or agreed to in writing, software\n",
              "// distributed under the License is distributed on an \"AS IS\" BASIS,\n",
              "// WITHOUT WARRANTIES OR CONDITIONS OF ANY KIND, either express or implied.\n",
              "// See the License for the specific language governing permissions and\n",
              "// limitations under the License.\n",
              "\n",
              "/**\n",
              " * @fileoverview Helpers for google.colab Python module.\n",
              " */\n",
              "(function(scope) {\n",
              "function span(text, styleAttributes = {}) {\n",
              "  const element = document.createElement('span');\n",
              "  element.textContent = text;\n",
              "  for (const key of Object.keys(styleAttributes)) {\n",
              "    element.style[key] = styleAttributes[key];\n",
              "  }\n",
              "  return element;\n",
              "}\n",
              "\n",
              "// Max number of bytes which will be uploaded at a time.\n",
              "const MAX_PAYLOAD_SIZE = 100 * 1024;\n",
              "\n",
              "function _uploadFiles(inputId, outputId) {\n",
              "  const steps = uploadFilesStep(inputId, outputId);\n",
              "  const outputElement = document.getElementById(outputId);\n",
              "  // Cache steps on the outputElement to make it available for the next call\n",
              "  // to uploadFilesContinue from Python.\n",
              "  outputElement.steps = steps;\n",
              "\n",
              "  return _uploadFilesContinue(outputId);\n",
              "}\n",
              "\n",
              "// This is roughly an async generator (not supported in the browser yet),\n",
              "// where there are multiple asynchronous steps and the Python side is going\n",
              "// to poll for completion of each step.\n",
              "// This uses a Promise to block the python side on completion of each step,\n",
              "// then passes the result of the previous step as the input to the next step.\n",
              "function _uploadFilesContinue(outputId) {\n",
              "  const outputElement = document.getElementById(outputId);\n",
              "  const steps = outputElement.steps;\n",
              "\n",
              "  const next = steps.next(outputElement.lastPromiseValue);\n",
              "  return Promise.resolve(next.value.promise).then((value) => {\n",
              "    // Cache the last promise value to make it available to the next\n",
              "    // step of the generator.\n",
              "    outputElement.lastPromiseValue = value;\n",
              "    return next.value.response;\n",
              "  });\n",
              "}\n",
              "\n",
              "/**\n",
              " * Generator function which is called between each async step of the upload\n",
              " * process.\n",
              " * @param {string} inputId Element ID of the input file picker element.\n",
              " * @param {string} outputId Element ID of the output display.\n",
              " * @return {!Iterable<!Object>} Iterable of next steps.\n",
              " */\n",
              "function* uploadFilesStep(inputId, outputId) {\n",
              "  const inputElement = document.getElementById(inputId);\n",
              "  inputElement.disabled = false;\n",
              "\n",
              "  const outputElement = document.getElementById(outputId);\n",
              "  outputElement.innerHTML = '';\n",
              "\n",
              "  const pickedPromise = new Promise((resolve) => {\n",
              "    inputElement.addEventListener('change', (e) => {\n",
              "      resolve(e.target.files);\n",
              "    });\n",
              "  });\n",
              "\n",
              "  const cancel = document.createElement('button');\n",
              "  inputElement.parentElement.appendChild(cancel);\n",
              "  cancel.textContent = 'Cancel upload';\n",
              "  const cancelPromise = new Promise((resolve) => {\n",
              "    cancel.onclick = () => {\n",
              "      resolve(null);\n",
              "    };\n",
              "  });\n",
              "\n",
              "  // Wait for the user to pick the files.\n",
              "  const files = yield {\n",
              "    promise: Promise.race([pickedPromise, cancelPromise]),\n",
              "    response: {\n",
              "      action: 'starting',\n",
              "    }\n",
              "  };\n",
              "\n",
              "  cancel.remove();\n",
              "\n",
              "  // Disable the input element since further picks are not allowed.\n",
              "  inputElement.disabled = true;\n",
              "\n",
              "  if (!files) {\n",
              "    return {\n",
              "      response: {\n",
              "        action: 'complete',\n",
              "      }\n",
              "    };\n",
              "  }\n",
              "\n",
              "  for (const file of files) {\n",
              "    const li = document.createElement('li');\n",
              "    li.append(span(file.name, {fontWeight: 'bold'}));\n",
              "    li.append(span(\n",
              "        `(${file.type || 'n/a'}) - ${file.size} bytes, ` +\n",
              "        `last modified: ${\n",
              "            file.lastModifiedDate ? file.lastModifiedDate.toLocaleDateString() :\n",
              "                                    'n/a'} - `));\n",
              "    const percent = span('0% done');\n",
              "    li.appendChild(percent);\n",
              "\n",
              "    outputElement.appendChild(li);\n",
              "\n",
              "    const fileDataPromise = new Promise((resolve) => {\n",
              "      const reader = new FileReader();\n",
              "      reader.onload = (e) => {\n",
              "        resolve(e.target.result);\n",
              "      };\n",
              "      reader.readAsArrayBuffer(file);\n",
              "    });\n",
              "    // Wait for the data to be ready.\n",
              "    let fileData = yield {\n",
              "      promise: fileDataPromise,\n",
              "      response: {\n",
              "        action: 'continue',\n",
              "      }\n",
              "    };\n",
              "\n",
              "    // Use a chunked sending to avoid message size limits. See b/62115660.\n",
              "    let position = 0;\n",
              "    do {\n",
              "      const length = Math.min(fileData.byteLength - position, MAX_PAYLOAD_SIZE);\n",
              "      const chunk = new Uint8Array(fileData, position, length);\n",
              "      position += length;\n",
              "\n",
              "      const base64 = btoa(String.fromCharCode.apply(null, chunk));\n",
              "      yield {\n",
              "        response: {\n",
              "          action: 'append',\n",
              "          file: file.name,\n",
              "          data: base64,\n",
              "        },\n",
              "      };\n",
              "\n",
              "      let percentDone = fileData.byteLength === 0 ?\n",
              "          100 :\n",
              "          Math.round((position / fileData.byteLength) * 100);\n",
              "      percent.textContent = `${percentDone}% done`;\n",
              "\n",
              "    } while (position < fileData.byteLength);\n",
              "  }\n",
              "\n",
              "  // All done.\n",
              "  yield {\n",
              "    response: {\n",
              "      action: 'complete',\n",
              "    }\n",
              "  };\n",
              "}\n",
              "\n",
              "scope.google = scope.google || {};\n",
              "scope.google.colab = scope.google.colab || {};\n",
              "scope.google.colab._files = {\n",
              "  _uploadFiles,\n",
              "  _uploadFilesContinue,\n",
              "};\n",
              "})(self);\n",
              "</script> "
            ]
          },
          "metadata": {}
        },
        {
          "output_type": "stream",
          "name": "stdout",
          "text": [
            "Saving goldstock.csv to goldstock.csv\n",
            "You uploaded: goldstock.csv\n",
            "   Unnamed: 0        Date   Close    Volume    Open    High     Low\n",
            "0           0  2024-01-19  2029.3  166078.0  2027.4  2041.9  2022.2\n",
            "1           1  2024-01-18  2021.6  167013.0  2009.1  2025.6  2007.7\n",
            "2           2  2024-01-17  2006.5  245194.0  2031.7  2036.1  2004.6\n",
            "3           3  2024-01-16  2030.2  277995.0  2053.4  2062.8  2027.6\n",
            "4           4  2024-01-12  2051.6  250946.0  2033.2  2067.3  2033.1\n"
          ]
        }
      ]
    },
    {
      "cell_type": "code",
      "source": [
        "# Checking the column names and types\n",
        "print(data.info())\n",
        "\n",
        "# Checking for missing values\n",
        "print(data.isnull().sum())\n",
        "\n",
        "# Getting basic statistics\n",
        "print(data.describe())\n"
      ],
      "metadata": {
        "colab": {
          "base_uri": "https://localhost:8080/"
        },
        "id": "6HsVRs0no811",
        "outputId": "9d8108a4-f11a-49cd-8d7d-01d15a95b6fc"
      },
      "execution_count": null,
      "outputs": [
        {
          "output_type": "stream",
          "name": "stdout",
          "text": [
            "<class 'pandas.core.frame.DataFrame'>\n",
            "RangeIndex: 2511 entries, 0 to 2510\n",
            "Data columns (total 7 columns):\n",
            " #   Column      Non-Null Count  Dtype  \n",
            "---  ------      --------------  -----  \n",
            " 0   Unnamed: 0  2511 non-null   int64  \n",
            " 1   Date        2511 non-null   object \n",
            " 2   Close       2511 non-null   float64\n",
            " 3   Volume      2511 non-null   float64\n",
            " 4   Open        2511 non-null   float64\n",
            " 5   High        2511 non-null   float64\n",
            " 6   Low         2511 non-null   float64\n",
            "dtypes: float64(5), int64(1), object(1)\n",
            "memory usage: 137.4+ KB\n",
            "None\n",
            "Unnamed: 0    0\n",
            "Date          0\n",
            "Close         0\n",
            "Volume        0\n",
            "Open          0\n",
            "High          0\n",
            "Low           0\n",
            "dtype: int64\n",
            "        Unnamed: 0        Close         Volume         Open         High  \\\n",
            "count  2511.000000  2511.000000    2511.000000  2511.000000  2511.000000   \n",
            "mean   1260.792911  1498.726085  185970.770609  1498.725528  1508.451454   \n",
            "std     729.262879   298.824811   97600.769382   299.118187   301.262244   \n",
            "min       0.000000  1049.600000       1.000000  1051.500000  1062.700000   \n",
            "25%     630.500000  1249.850000  126693.500000  1249.500000  1257.300000   \n",
            "50%    1259.000000  1332.800000  175421.000000  1334.000000  1342.400000   \n",
            "75%    1888.500000  1805.850000  234832.000000  1805.600000  1815.450000   \n",
            "max    2532.000000  2093.100000  787217.000000  2094.400000  2098.200000   \n",
            "\n",
            "               Low  \n",
            "count  2511.000000  \n",
            "mean   1488.869932  \n",
            "std     296.417703  \n",
            "min    1045.400000  \n",
            "25%    1242.350000  \n",
            "50%    1326.600000  \n",
            "75%    1793.050000  \n",
            "max    2074.600000  \n"
          ]
        }
      ]
    },
    {
      "cell_type": "code",
      "source": [
        "# Calculating percentage change in the Close price\n",
        "data['Close_pct_change'] = data['Close'].pct_change()\n",
        "\n",
        "# Defining a crash as a >5% drop in Close price\n",
        "data['Crash'] = (data['Close_pct_change'] < -0.05).astype(int)\n",
        "\n",
        "# Dropping NaN rows created by pct_change\n",
        "data = data.dropna()\n",
        "\n",
        "# Checking the distribution of the target\n",
        "print(data['Crash'].value_counts())\n"
      ],
      "metadata": {
        "colab": {
          "base_uri": "https://localhost:8080/"
        },
        "id": "FECMGabApKjS",
        "outputId": "cc3cd881-d691-4476-8769-742c274970a7"
      },
      "execution_count": null,
      "outputs": [
        {
          "output_type": "stream",
          "name": "stdout",
          "text": [
            "Crash\n",
            "0    2508\n",
            "1       2\n",
            "Name: count, dtype: int64\n"
          ]
        }
      ]
    },
    {
      "cell_type": "code",
      "source": [
        "# Defining features and target\n",
        "X = data[['Close', 'Volume', 'Open', 'High', 'Low']]\n",
        "y = data['Crash']\n"
      ],
      "metadata": {
        "id": "AbRb4o41pSPA"
      },
      "execution_count": null,
      "outputs": []
    },
    {
      "cell_type": "code",
      "source": [
        "corr_matrix = data[['Close', 'Volume', 'Open', 'High', 'Low']].corr()\n",
        "\n",
        "# Plot the heatmap\n",
        "plt.figure(figsize=(10, 8))\n",
        "sns.heatmap(corr_matrix, annot=True, fmt=\".2f\", cmap='coolwarm', cbar=True)\n",
        "plt.title('Correlation Heatmap')\n",
        "plt.show"
      ],
      "metadata": {
        "id": "ozfCj54Ybpay"
      },
      "execution_count": null,
      "outputs": []
    },
    {
      "cell_type": "code",
      "source": [
        "features = ['Close', 'Volume', 'Open', 'High', 'Low']\n",
        "\n",
        "plt.figure(figsize=(12, 10))\n",
        "for i, feature in enumerate(features):\n",
        "    plt.subplot(3, 2, i + 1)\n",
        "    sns.histplot(data[feature], bins=30, kde=True)\n",
        "    plt.title(f'Distribution of {feature}')\n",
        "    plt.xlabel(feature)\n",
        "    plt.ylabel('Frequency')\n",
        "\n",
        "plt.tight_layout()\n",
        "plt.show()"
      ],
      "metadata": {
        "id": "XZLsxN5Bbghc"
      },
      "execution_count": null,
      "outputs": []
    },
    {
      "cell_type": "code",
      "source": [
        "from sklearn.model_selection import train_test_split\n",
        "\n",
        "# Splitting data into training and testing sets\n",
        "X_train, X_test, y_train, y_test = train_test_split(X, y, test_size=0.2, random_state=42)\n"
      ],
      "metadata": {
        "id": "pm1akOwGpVWt"
      },
      "execution_count": null,
      "outputs": []
    },
    {
      "cell_type": "code",
      "source": [
        "from sklearn.linear_model import LogisticRegression\n",
        "from sklearn.metrics import classification_report, confusion_matrix\n",
        "\n",
        "# Initializing and train the model\n",
        "model = LogisticRegression()\n",
        "model.fit(X_train, y_train)\n",
        "\n",
        "# Making predictions\n",
        "y_pred = model.predict(X_test)\n",
        "\n",
        "# Evaluating the model\n",
        "print(confusion_matrix(y_test, y_pred))\n",
        "print(classification_report(y_test, y_pred))\n"
      ],
      "metadata": {
        "colab": {
          "base_uri": "https://localhost:8080/"
        },
        "id": "aRbzAks9pYiL",
        "outputId": "92e8533a-456b-4ac9-fcaa-3c4550f85e94"
      },
      "execution_count": null,
      "outputs": [
        {
          "output_type": "stream",
          "name": "stdout",
          "text": [
            "[[502]]\n",
            "              precision    recall  f1-score   support\n",
            "\n",
            "           0       1.00      1.00      1.00       502\n",
            "\n",
            "    accuracy                           1.00       502\n",
            "   macro avg       1.00      1.00      1.00       502\n",
            "weighted avg       1.00      1.00      1.00       502\n",
            "\n"
          ]
        },
        {
          "output_type": "stream",
          "name": "stderr",
          "text": [
            "/usr/local/lib/python3.10/dist-packages/sklearn/metrics/_classification.py:407: UserWarning: A single label was found in 'y_true' and 'y_pred'. For the confusion matrix to have the correct shape, use the 'labels' parameter to pass all known labels.\n",
            "  warnings.warn(\n"
          ]
        }
      ]
    },
    {
      "cell_type": "code",
      "source": [
        "import matplotlib.pyplot as plt\n",
        "from sklearn.metrics import roc_curve, auc\n",
        "\n",
        "# Calculating probabilities for the ROC curve\n",
        "y_pred_prob = model.predict_proba(X_test)[:, 1]\n",
        "fpr, tpr, _ = roc_curve(y_test, y_pred_prob)\n",
        "roc_auc = auc(fpr, tpr)\n",
        "\n",
        "# Plot ROC curve\n",
        "plt.figure()\n",
        "plt.plot(fpr, tpr, label=f\"ROC Curve (AUC = {roc_auc:.2f})\")\n",
        "plt.plot([0, 1], [0, 1], \"k--\")\n",
        "plt.xlabel(\"False Positive Rate\")\n",
        "plt.ylabel(\"True Positive Rate\")\n",
        "plt.title(\"Receiver Operating Characteristic\")\n",
        "plt.legend(loc=\"lower right\")\n",
        "plt.show()\n"
      ],
      "metadata": {
        "colab": {
          "base_uri": "https://localhost:8080/",
          "height": 508
        },
        "id": "KY2g-iJHpcpD",
        "outputId": "1e437f5c-c7b2-42e7-b436-982417d4a3fd"
      },
      "execution_count": null,
      "outputs": [
        {
          "output_type": "stream",
          "name": "stderr",
          "text": [
            "/usr/local/lib/python3.10/dist-packages/sklearn/metrics/_ranking.py:1180: UndefinedMetricWarning: No positive samples in y_true, true positive value should be meaningless\n",
            "  warnings.warn(\n"
          ]
        },
        {
          "output_type": "display_data",
          "data": {
            "text/plain": [
              "<Figure size 640x480 with 1 Axes>"
            ],
            "image/png": "[encoded data removed]"
          },
          "metadata": {}
        }
      ]
    },
    {
      "cell_type": "code",
      "source": [
        "# Predicting crash probabilities for the test set\n",
        "data['Crash_Probability'] = model.predict_proba(X)[:, 1]\n",
        "\n",
        "# Adding model predictions to the dataset\n",
        "data['Crash_Prediction'] = model.predict(X)\n"
      ],
      "metadata": {
        "id": "27tzPgjSpoBC"
      },
      "execution_count": null,
      "outputs": []
    },
    {
      "cell_type": "code",
      "source": [
        "# column to track strategy actions\n",
        "data['Investment_Action'] = data['Crash_Prediction'].apply(\n",
        "    lambda x: 'Safe Assets' if x == 1 else 'Growth Investments'\n",
        ")\n"
      ],
      "metadata": {
        "id": "GmRdTd04prVG"
      },
      "execution_count": null,
      "outputs": []
    },
    {
      "cell_type": "code",
      "source": [
        "# Calculating daily returns for growth investments\n",
        "data['Daily_Returns'] = data['Close'].pct_change()\n",
        "\n",
        "# Simulating returns based on the strategy\n",
        "initial_investment = 10000  # Example: $10,000 starting capital\n",
        "data['Portfolio_Value'] = initial_investment\n",
        "portfolio = initial_investment\n",
        "\n",
        "for i in range(1, len(data)):\n",
        "    if data.iloc[i]['Investment_Action'] == 'Safe Assets':\n",
        "        # No change in portfolio during crashes\n",
        "        data.loc[data.index[i], 'Portfolio_Value'] = portfolio\n",
        "    else:\n",
        "        # Apply daily returns during growth investment periods\n",
        "        portfolio *= (1 + data.iloc[i]['Daily_Returns'])\n",
        "        data.loc[data.index[i], 'Portfolio_Value'] = portfolio\n"
      ],
      "metadata": {
        "colab": {
          "base_uri": "https://localhost:8080/"
        },
        "id": "2PMCa5m-puJc",
        "outputId": "f664d895-556d-4a61-ef08-b6abf4c38808"
      },
      "execution_count": null,
      "outputs": [
        {
          "output_type": "stream",
          "name": "stderr",
          "text": [
            "<ipython-input-31-c104df9eb56d>:16: FutureWarning: Setting an item of incompatible dtype is deprecated and will raise an error in a future version of pandas. Value '9925.306687772061' has dtype incompatible with int64, please explicitly cast to a compatible dtype first.\n",
            "  data.loc[data.index[i], 'Portfolio_Value'] = portfolio\n"
          ]
        }
      ]
    },
    {
      "cell_type": "code",
      "source": [
        "# Simulating a buy-and-hold portfolio\n",
        "data['Buy_and_Hold'] = initial_investment * (1 + data['Daily_Returns']).cumprod()\n",
        "\n",
        "# Plotting the results\n",
        "import matplotlib.pyplot as plt\n",
        "\n",
        "plt.figure(figsize=(12, 6))\n",
        "plt.plot(data['Portfolio_Value'], label='Strategy Portfolio')\n",
        "plt.plot(data['Buy_and_Hold'], label='Buy-and-Hold Portfolio')\n",
        "plt.xlabel('Date')\n",
        "plt.ylabel('Portfolio Value')\n",
        "plt.title('Strategy vs. Buy-and-Hold Performance')\n",
        "plt.legend()\n",
        "plt.show()\n"
      ],
      "metadata": {
        "colab": {
          "base_uri": "https://localhost:8080/",
          "height": 564
        },
        "id": "5HFR2xgCpzEk",
        "outputId": "23892ccc-20c2-4d54-a758-183eb637350a"
      },
      "execution_count": null,
      "outputs": [
        {
          "output_type": "display_data",
          "data": {
            "text/plain": [
              "<Figure size 1200x600 with 1 Axes>"
            ],
            "image/png": "[encoded data removed]"
          },
          "metadata": {}
        }
      ]
    },
    {
      "cell_type": "code",
      "source": [
        "# Calculating key metrics\n",
        "strategy_cumulative_return = (data['Portfolio_Value'].iloc[-1] / initial_investment) - 1\n",
        "buy_and_hold_cumulative_return = (data['Buy_and_Hold'].iloc[-1] / initial_investment) - 1\n",
        "\n",
        "print(f\"Strategy Cumulative Return: {strategy_cumulative_return:.2%}\")\n",
        "print(f\"Buy-and-Hold Cumulative Return: {buy_and_hold_cumulative_return:.2%}\")\n"
      ],
      "metadata": {
        "colab": {
          "base_uri": "https://localhost:8080/"
        },
        "id": "i5V4nuZlp3oq",
        "outputId": "989537a7-a096-436b-a443-68ed025d2d35"
      },
      "execution_count": null,
      "outputs": [
        {
          "output_type": "stream",
          "name": "stdout",
          "text": [
            "Strategy Cumulative Return: -38.73%\n",
            "Buy-and-Hold Cumulative Return: -38.73%\n"
          ]
        }
      ]
    },
    {
      "cell_type": "code",
      "source": [
        "def investment_bot():\n",
        "    print(\"Welcome to the Investment Bot!\")\n",
        "    print(\"I will help you understand market predictions and suggest investment strategies.\\n\")\n",
        "\n",
        "    while True:\n",
        "        print(\"\\nOptions:\")\n",
        "        print(\"1. Explain current market prediction\")\n",
        "        print(\"2. Recommend investment action\")\n",
        "        print(\"3. Show historical strategy performance\")\n",
        "        print(\"4. Exit\")\n",
        "\n",
        "        choice = input(\"Choose an option (1-4): \")\n",
        "\n",
        "        if choice == \"1\":\n",
        "            # Example prediction explanation\n",
        "            latest_prediction = data['Crash_Prediction'].iloc[-1]\n",
        "            probability = data['Crash_Probability'].iloc[-1]\n",
        "            if latest_prediction == 1:\n",
        "                print(f\"\\nMarket Prediction: Crash likely (Probability: {probability:.2%}).\")\n",
        "            else:\n",
        "                print(f\"\\nMarket Prediction: Stable market (Probability: {probability:.2%}).\")\n",
        "\n",
        "        elif choice == \"2\":\n",
        "            # Example recommendation\n",
        "            latest_action = data['Investment_Action'].iloc[-1]\n",
        "            print(f\"\\nRecommended Action: {latest_action}\")\n",
        "\n",
        "        elif choice == \"3\":\n",
        "            # Show final portfolio value and comparison\n",
        "            strategy_value = data['Portfolio_Value'].iloc[-1]\n",
        "            buy_and_hold_value = data['Buy_and_Hold'].iloc[-1]\n",
        "            print(f\"\\nStrategy Final Portfolio Value: ${strategy_value:,.2f}\")\n",
        "            print(f\"Buy-and-Hold Final Portfolio Value: ${buy_and_hold_value:,.2f}\")\n",
        "\n",
        "        elif choice == \"4\":\n",
        "            print(\"\\nThank you for using the Investment Bot! Goodbye!\")\n",
        "            break\n",
        "\n",
        "        else:\n",
        "            print(\"\\nInvalid option. Please choose again.\")\n"
      ],
      "metadata": {
        "id": "mM1n2v_yqVX1"
      },
      "execution_count": null,
      "outputs": []
    },
    {
      "cell_type": "code",
      "source": [
        "investment_bot()\n"
      ],
      "metadata": {
        "colab": {
          "base_uri": "https://localhost:8080/"
        },
        "id": "1pRlGwW1qZW3",
        "outputId": "fae22f81-a989-415a-f427-ba6cc45d798a"
      },
      "execution_count": null,
      "outputs": [
        {
          "output_type": "stream",
          "name": "stdout",
          "text": [
            "Welcome to the Investment Bot!\n",
            "I will help you understand market predictions and suggest investment strategies.\n",
            "\n",
            "\n",
            "Options:\n",
            "1. Explain current market prediction\n",
            "2. Recommend investment action\n",
            "3. Show historical strategy performance\n",
            "4. Exit\n",
            "Choose an option (1-4): 1\n",
            "\n",
            "Market Prediction: Stable market (Probability: 0.09%).\n",
            "\n",
            "Options:\n",
            "1. Explain current market prediction\n",
            "2. Recommend investment action\n",
            "3. Show historical strategy performance\n",
            "4. Exit\n",
            "Choose an option (1-4): 2\n",
            "\n",
            "Recommended Action: Growth Investments\n",
            "\n",
            "Options:\n",
            "1. Explain current market prediction\n",
            "2. Recommend investment action\n",
            "3. Show historical strategy performance\n",
            "4. Exit\n",
            "Choose an option (1-4): 3\n",
            "\n",
            "Strategy Final Portfolio Value: $6,126.83\n",
            "Buy-and-Hold Final Portfolio Value: $6,126.83\n",
            "\n",
            "Options:\n",
            "1. Explain current market prediction\n",
            "2. Recommend investment action\n",
            "3. Show historical strategy performance\n",
            "4. Exit\n",
            "Choose an option (1-4): 1\n",
            "\n",
            "Market Prediction: Stable market (Probability: 0.09%).\n",
            "\n",
            "Options:\n",
            "1. Explain current market prediction\n",
            "2. Recommend investment action\n",
            "3. Show historical strategy performance\n",
            "4. Exit\n",
            "Choose an option (1-4): 9\n",
            "\n",
            "Invalid option. Please choose again.\n",
            "\n",
            "Options:\n",
            "1. Explain current market prediction\n",
            "2. Recommend investment action\n",
            "3. Show historical strategy performance\n",
            "4. Exit\n",
            "Choose an option (1-4): 2\n",
            "\n",
            "Recommended Action: Growth Investments\n",
            "\n",
            "Options:\n",
            "1. Explain current market prediction\n",
            "2. Recommend investment action\n",
            "3. Show historical strategy performance\n",
            "4. Exit\n",
            "Choose an option (1-4): 4\n",
            "\n",
            "Thank you for using the Investment Bot! Goodbye!\n"
          ]
        }
      ]
    }
  ]
}